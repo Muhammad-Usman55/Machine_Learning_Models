{
 "cells": [
  {
   "cell_type": "code",
   "execution_count": null,
   "metadata": {},
   "outputs": [
    {
     "name": "stdout",
     "output_type": "stream",
     "text": [
      "         Age    Salary  Gender_Male  City_Los Angeles  City_New York\n",
      "0  -1.632993 -2.049531         True             False           True\n",
      "1   0.204124 -0.861735        False              True          False\n",
      "2   0.000000  0.326062         True             False          False\n",
      "3  -0.816497  0.000000        False             False           True\n",
      "4   1.837117  1.909791         True              True          False\n",
      "5  -0.408248 -1.257667        False             False          False\n",
      "6  -1.020621 -0.069870         True             False          False\n",
      "7   0.816497  0.853971        False              True          False\n",
      "8   1.428869 -0.597780         True             False          False\n",
      "9  -1.428869  0.000000        False             False           True\n",
      "10  0.000000  1.513858         True             False           True\n",
      "11  0.408248  0.590017        False             False          False\n",
      "12  0.000000 -0.201848         True             False          False\n",
      "13 -0.612372 -1.389644        False              True          False\n",
      "14  1.224745  1.381881         True             False           True\n",
      "15 -1.224745 -0.333825        False             False          False\n",
      "16 -0.204124 -0.993712         True              True          False\n",
      "17  1.632993  0.000000        False             False           True\n",
      "18 -0.816497  0.985949         True             False          False\n",
      "19  0.612372  0.194084        False              True          False\n"
     ]
    },
    {
     "name": "stderr",
     "output_type": "stream",
     "text": [
      "C:\\Users\\usman\\AppData\\Local\\Temp\\ipykernel_8468\\1878269265.py:14: FutureWarning: A value is trying to be set on a copy of a DataFrame or Series through chained assignment using an inplace method.\n",
      "The behavior will change in pandas 3.0. This inplace method will never work because the intermediate object on which we are setting values always behaves as a copy.\n",
      "\n",
      "For example, when doing 'df[col].method(value, inplace=True)', try using 'df.method({col: value}, inplace=True)' or df[col] = df[col].method(value) instead, to perform the operation inplace on the original object.\n",
      "\n",
      "\n",
      "  df['Age'].fillna(df['Age'].mean(), inplace=True)  # Fill Age with mean\n",
      "C:\\Users\\usman\\AppData\\Local\\Temp\\ipykernel_8468\\1878269265.py:15: FutureWarning: A value is trying to be set on a copy of a DataFrame or Series through chained assignment using an inplace method.\n",
      "The behavior will change in pandas 3.0. This inplace method will never work because the intermediate object on which we are setting values always behaves as a copy.\n",
      "\n",
      "For example, when doing 'df[col].method(value, inplace=True)', try using 'df.method({col: value}, inplace=True)' or df[col] = df[col].method(value) instead, to perform the operation inplace on the original object.\n",
      "\n",
      "\n",
      "  df['Salary'].fillna(df['Salary'].mean(), inplace=True)  # Fill Salary with mean\n",
      "C:\\Users\\usman\\AppData\\Local\\Temp\\ipykernel_8468\\1878269265.py:16: FutureWarning: A value is trying to be set on a copy of a DataFrame or Series through chained assignment using an inplace method.\n",
      "The behavior will change in pandas 3.0. This inplace method will never work because the intermediate object on which we are setting values always behaves as a copy.\n",
      "\n",
      "For example, when doing 'df[col].method(value, inplace=True)', try using 'df.method({col: value}, inplace=True)' or df[col] = df[col].method(value) instead, to perform the operation inplace on the original object.\n",
      "\n",
      "\n",
      "  df['City'].fillna(df['City'].mode()[0], inplace=True)  # Fill City with most frequent value\n",
      "C:\\Users\\usman\\AppData\\Local\\Temp\\ipykernel_8468\\1878269265.py:17: FutureWarning: A value is trying to be set on a copy of a DataFrame or Series through chained assignment using an inplace method.\n",
      "The behavior will change in pandas 3.0. This inplace method will never work because the intermediate object on which we are setting values always behaves as a copy.\n",
      "\n",
      "For example, when doing 'df[col].method(value, inplace=True)', try using 'df.method({col: value}, inplace=True)' or df[col] = df[col].method(value) instead, to perform the operation inplace on the original object.\n",
      "\n",
      "\n",
      "  df['Gender'].fillna(df['Gender'].mode()[0], inplace=True)  # Fill Gender with most frequent value\n"
     ]
    }
   ],
   "source": [
    "import pandas as pd\n",
    "from sklearn.impute import SimpleImputer\n",
    "from sklearn.preprocessing import StandardScaler, OneHotEncoder\n",
    "\n",
    "file_path = 'Preprocessing.csv'\n",
    "df = pd.read_csv(file_path)\n",
    "\n",
    "if 'ID' in df.columns:\n",
    "    df = df.drop(columns=['ID'])\n",
    "\n",
    "df['Age'].fillna(df['Age'].mean(), inplace=True)  \n",
    "df['Salary'].fillna(df['Salary'].mean(), inplace=True) \n",
    "df['City'].fillna(df['City'].mode()[0], inplace=True)  \n",
    "df['Gender'].fillna(df['Gender'].mode()[0], inplace=True) \n",
    "\n",
    "df = pd.get_dummies(df, columns=['Gender', 'City'], drop_first=True)\n",
    "\n",
    "\n",
    "scaler = StandardScaler()\n",
    "df[['Age', 'Salary']] = scaler.fit_transform(df[['Age', 'Salary']])\n",
    "\n",
    "\n",
    "print(df)\n"
   ]
  }
 ],
 "metadata": {
  "kernelspec": {
   "display_name": "Python 3",
   "language": "python",
   "name": "python3"
  },
  "language_info": {
   "codemirror_mode": {
    "name": "ipython",
    "version": 3
   },
   "file_extension": ".py",
   "mimetype": "text/x-python",
   "name": "python",
   "nbconvert_exporter": "python",
   "pygments_lexer": "ipython3",
   "version": "3.12.6"
  }
 },
 "nbformat": 4,
 "nbformat_minor": 2
}
